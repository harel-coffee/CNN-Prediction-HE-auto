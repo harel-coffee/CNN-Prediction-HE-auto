{
  "cells": [
    {
      "cell_type": "code",
      "execution_count": 1,
      "metadata": {
        "colab": {
          "base_uri": "https://localhost:8080/"
        },
        "id": "kZmMdNIzsiG9",
        "outputId": "971998b8-346e-4997-ecec-cb889c4aaaed"
      },
      "outputs": [
        {
          "name": "stdout",
          "output_type": "stream",
          "text": [
            "Drive already mounted at /content/drive; to attempt to forcibly remount, call drive.mount(\"/content/drive\", force_remount=True).\n"
          ]
        }
      ],
      "source": [
        "from google.colab import drive\n",
        "drive.mount('/content/drive')"
      ]
    },
    {
      "cell_type": "code",
      "execution_count": 2,
      "metadata": {
        "id": "TRAdWYCSsqpa"
      },
      "outputs": [],
      "source": [
        "import matplotlib.pyplot as plt\n",
        "import tensorflow as tf\n",
        "import numpy as np\n",
        "import tensorflow.keras as keras\n",
        "#from drive.MyDrive.resnet import resnet\n",
        "import cv2\n",
        "import torch.optim as optim\n"
      ]
    },
    {
      "cell_type": "code",
      "execution_count": 3,
      "metadata": {
        "id": "A12SIuUIsspa"
      },
      "outputs": [],
      "source": [
        "import tensorflow as tf\n",
        "from tensorflow import keras\n"
      ]
    },
    {
      "cell_type": "code",
      "execution_count": 4,
      "metadata": {
        "id": "mU5C_Q0Swnut"
      },
      "outputs": [],
      "source": [
        "import torch\n",
        "import torch.nn as nn\n",
        "import torchvision.datasets as datasets\n",
        "import torchvision.transforms as transforms\n",
        "import torch.nn.functional as F"
      ]
    },
    {
      "cell_type": "code",
      "execution_count": 5,
      "metadata": {
        "id": "8aDLMlJos3eR"
      },
      "outputs": [],
      "source": [
        "X_data = torch.load('/content/drive/MyDrive/CNN/touch_2d_d2_input_tensor.pt')\n",
        "Y_data = torch.load('/content/drive/MyDrive/CNN/touch_2d_d2_y_train.pt')"
      ]
    },
    {
      "cell_type": "code",
      "execution_count": 6,
      "metadata": {
        "id": "3tzGQVe4w9NP"
      },
      "outputs": [],
      "source": [
        "from tensorflow.keras.utils import to_categorical\n",
        "from sklearn.preprocessing import LabelEncoder, MinMaxScaler\n",
        "\n",
        "Y_data = LabelEncoder().fit_transform(Y_data)"
      ]
    },
    {
      "cell_type": "code",
      "execution_count": 7,
      "metadata": {
        "colab": {
          "base_uri": "https://localhost:8080/"
        },
        "id": "VtUmfLMztGly",
        "outputId": "11922b90-5e22-4c0c-f8a5-284b20d71ba9"
      },
      "outputs": [
        {
          "data": {
            "text/plain": [
              "torch.Size([408, 3, 512, 512])"
            ]
          },
          "execution_count": 7,
          "metadata": {},
          "output_type": "execute_result"
        }
      ],
      "source": [
        "X_data.shape"
      ]
    },
    {
      "cell_type": "code",
      "execution_count": 8,
      "metadata": {
        "id": "oR85sLvYpnuC"
      },
      "outputs": [],
      "source": [
        "from imblearn.over_sampling import SMOTE\n",
        "import numpy as np\n",
        "from sklearn.model_selection import train_test_split\n",
        "frist_cohort_x, second_cohort_x, frist_cohort_y, second_cohort_y = train_test_split(X_data, Y_data, stratify=Y_data, test_size=0.5, random_state=42)"
      ]
    },
    {
      "cell_type": "code",
      "execution_count": 9,
      "metadata": {
        "colab": {
          "base_uri": "https://localhost:8080/"
        },
        "id": "XA_kU3dPrCeg",
        "outputId": "fa1bea36-7845-4b06-f7d1-d7b709bdc30b"
      },
      "outputs": [
        {
          "name": "stdout",
          "output_type": "stream",
          "text": [
            "frist_cohort_x.shape torch.Size([204, 3, 512, 512])\n",
            "second_cohort_x.shape torch.Size([204, 3, 512, 512])\n",
            "frist_cohort_y.shape (204,)\n",
            "second_cohort_y.shape (204,)\n"
          ]
        }
      ],
      "source": [
        "print(\"frist_cohort_x.shape\",frist_cohort_x.shape)\n",
        "print(\"second_cohort_x.shape\",second_cohort_x.shape)\n",
        "print(\"frist_cohort_y.shape\",frist_cohort_y.shape)\n",
        "print(\"second_cohort_y.shape\",second_cohort_y.shape)\n"
      ]
    },
    {
      "cell_type": "code",
      "execution_count": 10,
      "metadata": {
        "id": "tgUt6rty6vpG"
      },
      "outputs": [],
      "source": [
        "target_size = (128, 128)"
      ]
    },
    {
      "cell_type": "code",
      "execution_count": 11,
      "metadata": {
        "id": "EfCYVi9362Ub"
      },
      "outputs": [],
      "source": [
        "resized_tensor = F.interpolate(frist_cohort_x , size=target_size, mode='bilinear', align_corners=False)\n"
      ]
    },
    {
      "cell_type": "code",
      "execution_count": 12,
      "metadata": {
        "id": "Pf_0YA7X6_EQ"
      },
      "outputs": [],
      "source": [
        "X_data=resized_tensor"
      ]
    },
    {
      "cell_type": "code",
      "execution_count": 13,
      "metadata": {
        "id": "5YXCIFj8rqeQ"
      },
      "outputs": [],
      "source": [
        "Y_data=frist_cohort_y"
      ]
    },
    {
      "cell_type": "code",
      "execution_count": 14,
      "metadata": {
        "colab": {
          "base_uri": "https://localhost:8080/"
        },
        "id": "yZgPUFBP7ECm",
        "outputId": "c8657782-9af1-48e9-9d1b-3672518b4b8f"
      },
      "outputs": [
        {
          "data": {
            "text/plain": [
              "torch.Size([204, 3, 128, 128])"
            ]
          },
          "execution_count": 14,
          "metadata": {},
          "output_type": "execute_result"
        }
      ],
      "source": [
        "X_data.shape"
      ]
    },
    {
      "cell_type": "code",
      "execution_count": 15,
      "metadata": {
        "id": "mLOJbB-JtO_K"
      },
      "outputs": [],
      "source": [
        "import torch\n",
        "import torchvision.transforms as transforms\n",
        "\n",
        "# 假设你有原始的数据集 tensor.data 和对应的标签 tensor.labels\n",
        "data = X_data\n",
        "labels =torch.tensor(Y_data)\n",
        "\n",
        "# 计算每个标签的样本数量\n",
        "label_counts = torch.bincount(labels)\n",
        "\n",
        "# 计算样本数量最多的标签的样本数量\n",
        "max_count = label_counts.max().item()\n",
        "\n",
        "# 定义数据扩增的变换\n",
        "transform = transforms.Compose([\n",
        "    # 添加你需要的数据扩增操作，比如随机裁剪、翻转等\n",
        "    transforms.RandomCrop(128),\n",
        "    transforms.RandomHorizontalFlip(),\n",
        "    # 其他数据扩增操作...\n",
        "])\n",
        "\n",
        "# 创建一个空列表，用于存储扩增后的数据和标签\n",
        "augmented_data = []\n",
        "augmented_labels = []\n",
        "\n",
        "# 遍历每个标签\n",
        "for label in torch.unique(labels):\n",
        "    # 获取该标签下的索引\n",
        "    indices = torch.nonzero(labels == label).squeeze()\n",
        "\n",
        "    # 计算需要扩增的样本数量\n",
        "    num_augmented_samples = max_count - label_counts[label]\n",
        "\n",
        "    # 随机选择需要扩增的样本索引\n",
        "    selected_indices = torch.randint(low=0, high=len(indices), size=(num_augmented_samples,))\n",
        "\n",
        "    # 对选中的样本进行数据扩增操作，并将扩增后的数据和标签添加到列表中\n",
        "    for index in selected_indices:\n",
        "        image = data[indices[index]]\n",
        "        augmented_image = transform(image)\n",
        "        augmented_data.append(augmented_image)\n",
        "        augmented_labels.append(label)\n",
        "\n",
        "# 将扩增后的数据和标签转换为张量\n",
        "augmented_data = torch.stack(augmented_data)\n",
        "augmented_labels = torch.tensor(augmented_labels)\n",
        "\n",
        "# 将原始数据和扩增后的数据合并\n",
        "final_data = torch.cat((data, augmented_data))\n",
        "final_labels = torch.cat((labels, augmented_labels))\n"
      ]
    },
    {
      "cell_type": "code",
      "execution_count": 16,
      "metadata": {
        "id": "7W3Yicv93oSJ"
      },
      "outputs": [],
      "source": [
        "from imblearn.over_sampling import SMOTE\n",
        "import numpy as np\n",
        "from sklearn.model_selection import train_test_split\n",
        "x_train, x_test, y_train, y_test = train_test_split(final_data, final_labels, stratify=final_labels, test_size=0.2, random_state=42)\n"
      ]
    },
    {
      "cell_type": "code",
      "execution_count": 17,
      "metadata": {
        "id": "OKYq9RJ1trUZ"
      },
      "outputs": [],
      "source": [
        "from torch.utils.data import Dataset\n",
        "\n",
        "class CustomDataset(Dataset):\n",
        "    def __init__(self, images, labels, transform=None):\n",
        "        self.images = images\n",
        "        self.labels = labels\n",
        "        self.transform = transform\n",
        "\n",
        "    def __len__(self):\n",
        "        return len(self.images)\n",
        "\n",
        "    def __getitem__(self, index):\n",
        "        image = self.images[index]\n",
        "        label = self.labels[index]\n",
        "\n",
        "        if self.transform is not None:\n",
        "            image = self.transform(image)\n",
        "            label = self.transform(label)\n",
        "\n",
        "        return image, label\n",
        "transform = transforms.Compose([\n",
        "    transforms.ToTensor(),  # 转换为张量\n",
        "    transforms.Normalize(mean=[0.5, 0.5, 0.5], std=[0.5, 0.5, 0.5])  # 标准化\n",
        "])\n",
        "\n",
        "\n",
        "\n"
      ]
    },
    {
      "cell_type": "code",
      "execution_count": 18,
      "metadata": {
        "id": "aL2fDCMttRZb"
      },
      "outputs": [],
      "source": [
        "train_dataset=CustomDataset(x_train, y_train)\n",
        "test_dataset=CustomDataset(x_test, y_test )\n",
        "\n",
        "# 定义数据加载器\n",
        "shuffle = True\n",
        "\n"
      ]
    },
    {
      "cell_type": "code",
      "execution_count": 19,
      "metadata": {
        "id": "BHFxg47BtzQi"
      },
      "outputs": [],
      "source": [
        "batch_size = 128\n",
        "train_loader = torch.utils.data.DataLoader(train_dataset, batch_size=batch_size, shuffle=shuffle)\n",
        "test_loader = torch.utils.data.DataLoader(test_dataset, batch_size=batch_size, shuffle=shuffle)"
      ]
    },
    {
      "cell_type": "code",
      "execution_count": 20,
      "metadata": {
        "id": "QFyI6vCit5dR"
      },
      "outputs": [],
      "source": [
        "import torch.nn as nn\n",
        "import torchvision.models as models"
      ]
    },
    {
      "cell_type": "code",
      "execution_count": 21,
      "metadata": {
        "id": "fQ-ZG-PQCitQ"
      },
      "outputs": [],
      "source": [
        "model = models.inception_v3()"
      ]
    },
    {
      "cell_type": "code",
      "execution_count": 22,
      "metadata": {
        "id": "JL7d8TJGwNa2"
      },
      "outputs": [],
      "source": [
        "num_epochs = 100\n",
        "learning_rate = 0.001"
      ]
    },
    {
      "cell_type": "code",
      "execution_count": 23,
      "metadata": {
        "id": "WE4iq1Oo1NMS"
      },
      "outputs": [],
      "source": [
        "\n",
        "loss_function = nn.CrossEntropyLoss()\n",
        "optimizer = optim.Adam(model.fc.parameters())"
      ]
    },
    {
      "cell_type": "code",
      "execution_count": 24,
      "metadata": {
        "colab": {
          "base_uri": "https://localhost:8080/"
        },
        "id": "pwOYwtlV1nyQ",
        "outputId": "7e26f421-bff9-4385-ef77-a1d70491bc00"
      },
      "outputs": [
        {
          "data": {
            "text/plain": [
              "device(type='cuda')"
            ]
          },
          "execution_count": 24,
          "metadata": {},
          "output_type": "execute_result"
        }
      ],
      "source": [
        "device = torch.device('cuda' if torch.cuda.is_available() else 'cpu')\n",
        "device"
      ]
    },
    {
      "cell_type": "code",
      "execution_count": 25,
      "metadata": {
        "colab": {
          "base_uri": "https://localhost:8080/"
        },
        "id": "ZjyKFMHs6XTF",
        "outputId": "2d63b92b-b60e-461a-919f-2fccaedc414b"
      },
      "outputs": [
        {
          "name": "stdout",
          "output_type": "stream",
          "text": [
            "Epoch: 0 Loss :126.74478507041931  Accuracy :48.4375%\n",
            "Epoch: 1 Loss :138.61329317092896  Accuracy :47.265625%\n",
            "Epoch: 2 Loss :135.73014974594116  Accuracy :50.390625%\n",
            "Epoch: 3 Loss :92.35637533664703  Accuracy :48.828125%\n",
            "Epoch: 4 Loss :86.52469146251678  Accuracy :50.78125%\n",
            "Epoch: 5 Loss :80.45554029941559  Accuracy :51.953125%\n",
            "Epoch: 6 Loss :77.8543268442154  Accuracy :52.734375%\n",
            "Epoch: 7 Loss :78.84515357017517  Accuracy :54.296875%\n",
            "Epoch: 8 Loss :77.43919539451599  Accuracy :56.640625%\n",
            "Epoch: 9 Loss :75.7248215675354  Accuracy :56.25%\n",
            "Epoch: 10 Loss :80.47776091098785  Accuracy :52.34375%\n",
            "Epoch: 11 Loss :77.04173541069031  Accuracy :62.5%\n",
            "Epoch: 12 Loss :76.69975554943085  Accuracy :58.203125%\n",
            "Epoch: 13 Loss :73.4779417514801  Accuracy :68.75%\n",
            "Epoch: 14 Loss :71.40213680267334  Accuracy :64.453125%\n",
            "Epoch: 15 Loss :65.72320812940598  Accuracy :70.3125%\n",
            "Epoch: 16 Loss :51.31412523984909  Accuracy :75.78125%\n",
            "Epoch: 17 Loss :25.502711683511734  Accuracy :88.671875%\n",
            "Epoch: 18 Loss :53.23954540491104  Accuracy :83.59375%\n",
            "Epoch: 19 Loss :20.791961818933487  Accuracy :89.453125%\n",
            "Epoch: 20 Loss :20.653529927134514  Accuracy :89.0625%\n",
            "Epoch: 21 Loss :9.912753105163574  Accuracy :92.96875%\n",
            "Epoch: 22 Loss :15.029497176408768  Accuracy :91.796875%\n",
            "Epoch: 23 Loss :47.62690180540085  Accuracy :81.25%\n",
            "Epoch: 24 Loss :38.067328214645386  Accuracy :83.984375%\n",
            "Epoch: 25 Loss :26.53182026743889  Accuracy :91.40625%\n",
            "Epoch: 26 Loss :11.507862642407417  Accuracy :91.40625%\n",
            "Epoch: 27 Loss :9.727843314409256  Accuracy :93.359375%\n",
            "Epoch: 28 Loss :10.219653725624084  Accuracy :92.96875%\n",
            "Epoch: 29 Loss :3.7267041616141796  Accuracy :94.140625%\n",
            "Epoch: 30 Loss :6.489487037062645  Accuracy :94.140625%\n",
            "Epoch: 31 Loss :7.7413531094789505  Accuracy :92.96875%\n",
            "Epoch: 32 Loss :4.557689708657563  Accuracy :93.359375%\n",
            "Epoch: 33 Loss :5.559173518791795  Accuracy :94.140625%\n",
            "Epoch: 34 Loss :2.4152433462440968  Accuracy :94.53125%\n",
            "Epoch: 35 Loss :2.471459522843361  Accuracy :94.140625%\n",
            "Epoch: 36 Loss :0.1536696571856737  Accuracy :95.3125%\n",
            "Epoch: 37 Loss :0.42916172463446856  Accuracy :95.3125%\n",
            "Epoch: 38 Loss :0.38502250518649817  Accuracy :95.3125%\n",
            "Epoch: 39 Loss :0.3246540380641818  Accuracy :95.3125%\n",
            "Epoch: 40 Loss :0.1985954288393259  Accuracy :95.3125%\n",
            "Epoch: 41 Loss :0.1547777419909835  Accuracy :95.3125%\n",
            "Epoch: 42 Loss :0.1608041652943939  Accuracy :95.3125%\n",
            "Epoch: 43 Loss :0.33795672794803977  Accuracy :95.3125%\n",
            "Epoch: 44 Loss :0.15764831914566457  Accuracy :95.3125%\n",
            "Epoch: 45 Loss :0.05921630037482828  Accuracy :95.3125%\n",
            "Epoch: 46 Loss :0.0138179177447455  Accuracy :95.3125%\n",
            "Epoch: 47 Loss :0.03511415753746405  Accuracy :95.3125%\n",
            "Epoch: 48 Loss :0.0168709859426599  Accuracy :95.3125%\n",
            "Epoch: 49 Loss :0.11070073652081192  Accuracy :95.3125%\n",
            "Epoch: 50 Loss :0.004581269378832076  Accuracy :95.3125%\n",
            "Epoch: 51 Loss :0.22237697709351778  Accuracy :95.3125%\n",
            "Epoch: 52 Loss :0.019736947841010988  Accuracy :95.3125%\n",
            "Epoch: 53 Loss :1.5133332144469023  Accuracy :94.921875%\n",
            "Epoch: 54 Loss :0.4492078209295869  Accuracy :95.3125%\n",
            "Epoch: 55 Loss :1.8080133963376284  Accuracy :94.921875%\n",
            "Epoch: 56 Loss :8.88431891053915  Accuracy :91.796875%\n",
            "Epoch: 57 Loss :29.90330545604229  Accuracy :89.453125%\n",
            "Epoch: 58 Loss :59.50313413143158  Accuracy :85.9375%\n",
            "Epoch: 59 Loss :27.67564457654953  Accuracy :86.328125%\n",
            "Epoch: 60 Loss :16.072728276252747  Accuracy :92.578125%\n",
            "Epoch: 61 Loss :11.88977736234665  Accuracy :92.578125%\n",
            "Epoch: 62 Loss :4.827790044248104  Accuracy :94.921875%\n",
            "Epoch: 63 Loss :5.013419941067696  Accuracy :94.140625%\n",
            "Epoch: 64 Loss :3.187864691950381  Accuracy :94.140625%\n",
            "Epoch: 65 Loss :2.032282028347254  Accuracy :94.53125%\n",
            "Epoch: 66 Loss :1.105276234447956  Accuracy :94.921875%\n",
            "Epoch: 67 Loss :1.008627088740468  Accuracy :94.921875%\n",
            "Epoch: 68 Loss :0.283556398935616  Accuracy :95.3125%\n",
            "Epoch: 69 Loss :0.1039284443249926  Accuracy :95.3125%\n",
            "Epoch: 70 Loss :1.3601053953170776  Accuracy :95.3125%\n",
            "Epoch: 71 Loss :2.271272584795952  Accuracy :94.921875%\n",
            "Epoch: 72 Loss :0.6503901053220034  Accuracy :95.3125%\n",
            "Epoch: 73 Loss :0.27813697792589664  Accuracy :95.3125%\n",
            "Epoch: 74 Loss :0.13038379966747016  Accuracy :95.3125%\n",
            "Epoch: 75 Loss :0.904561422765255  Accuracy :94.921875%\n",
            "Epoch: 76 Loss :0.5170859759673476  Accuracy :95.3125%\n",
            "Epoch: 77 Loss :0.274696659296751  Accuracy :95.3125%\n",
            "Epoch: 78 Loss :0.13663797092158347  Accuracy :95.3125%\n",
            "Epoch: 79 Loss :0.12414539372548461  Accuracy :95.3125%\n",
            "Epoch: 80 Loss :0.22018054220825434  Accuracy :95.3125%\n",
            "Epoch: 81 Loss :0.08823501388542354  Accuracy :95.3125%\n",
            "Epoch: 82 Loss :0.03645820252131671  Accuracy :95.3125%\n",
            "Epoch: 83 Loss :0.02931858116062358  Accuracy :95.3125%\n",
            "Epoch: 84 Loss :0.01855434462777339  Accuracy :95.3125%\n",
            "Epoch: 85 Loss :0.041382840543519706  Accuracy :95.3125%\n",
            "Epoch: 86 Loss :0.03265650477260351  Accuracy :95.3125%\n",
            "Epoch: 87 Loss :0.01965440416825004  Accuracy :95.3125%\n",
            "Epoch: 88 Loss :0.10605525714345276  Accuracy :95.3125%\n",
            "Epoch: 89 Loss :0.022383649280527607  Accuracy :95.3125%\n",
            "Epoch: 90 Loss :0.02770875848364085  Accuracy :95.3125%\n",
            "Epoch: 91 Loss :0.011015146825229749  Accuracy :95.3125%\n",
            "Epoch: 92 Loss :0.006781070907891262  Accuracy :95.3125%\n",
            "Epoch: 93 Loss :0.007211398406070657  Accuracy :95.3125%\n",
            "Epoch: 94 Loss :0.015114295849343762  Accuracy :95.3125%\n",
            "Epoch: 95 Loss :0.02223867805878399  Accuracy :95.3125%\n",
            "Epoch: 96 Loss :0.009622483077691868  Accuracy :95.3125%\n",
            "Epoch: 97 Loss :0.004717587980849203  Accuracy :95.3125%\n",
            "Epoch: 98 Loss :0.0038936955752433278  Accuracy :95.3125%\n",
            "Epoch: 99 Loss :0.004487252757826354  Accuracy :95.3125%\n",
            "torch.Size([2, 6144])\n",
            "torch.Size([2])\n"
          ]
        }
      ],
      "source": [
        "if torch.cuda.is_available():\n",
        "   model.cuda()\n",
        "device = torch.device(\"cuda\")\n",
        "num_ftrs = model.fc.in_features\n",
        "model.fc = nn.Linear(num_ftrs, 2)\n",
        "last_fully_connected_layer = model.fc\n",
        "\n",
        "# 定义损失函数和优化器\n",
        "criterion = nn.CrossEntropyLoss()\n",
        "optimizer = torch.optim.Adam(model.parameters(), lr=learning_rate)\n",
        "\n",
        "# 训练模型\n",
        "for epoch in range(num_epochs):\n",
        "    total_correct =0.0\n",
        "    r_loss=0.0\n",
        "    for i, (images, labels) in enumerate(train_loader):\n",
        "        # 将数据移动到GPU\n",
        "        if torch.cuda.is_available():\n",
        "            model = model.to(device)\n",
        "            images = images.cuda()\n",
        "            labels = labels.cuda()\n",
        "\n",
        "        # 前向传递，反向传递，优化器更新\n",
        "        outputs = model(images)\n",
        "        output_label = torch.argmax(outputs,dim=1)\n",
        "        total_correct+= (labels==output_label).sum().item()\n",
        "        loss = criterion(outputs, labels)\n",
        "        r_loss += loss.item()*images.size(0)\n",
        "        optimizer.zero_grad()\n",
        "        loss.backward()\n",
        "        optimizer.step()\n",
        "\n",
        "        # 输出训练信息\n",
        "        if (i + 1) % 100 == 0:\n",
        "            print('Epoch [%d/%d], Iter [%d/%d] Loss: %.4f' % (epoch+1, num_epochs, i+1, len(train_dataset)//batch_size, loss.item()))\n",
        "    print(f'Epoch: {epoch} Loss :{r_loss/len(train_loader)}  Accuracy :{total_correct/len(train_loader)/batch_size*100}%')\n",
        "\n",
        "# 提取最后一个全连接层\n",
        "last_fc_layer_weights = last_fully_connected_layer.weight\n",
        "last_fc_layer_biases = last_fully_connected_layer.bias\n",
        "\n",
        "# 打印最后一个全连接层的权重和偏置向量的形状\n",
        "print(last_fc_layer_weights.shape)\n",
        "print(last_fc_layer_biases.shape)"
      ]
    },
    {
      "cell_type": "code",
      "execution_count": 26,
      "metadata": {
        "colab": {
          "base_uri": "https://localhost:8080/"
        },
        "id": "jvaFyz8R9Mjl",
        "outputId": "c7806995-7197-4b25-bd60-dc558bad9476"
      },
      "outputs": [
        {
          "name": "stdout",
          "output_type": "stream",
          "text": [
            "Accuracy of the model on the test images: 91 %\n"
          ]
        }
      ],
      "source": [
        "correct = 0\n",
        "total = 0\n",
        "with torch.no_grad():\n",
        "    for images, labels in test_loader:\n",
        "        # 将数据移动到GPU\n",
        "        if torch.cuda.is_available():\n",
        "            model = model.to(device)\n",
        "            images = images.cuda()\n",
        "            labels = labels.cuda()\n",
        "\n",
        "        # 前向传递，并获取最大预测值的索引\n",
        "        outputs = model(images)\n",
        "        _, predicted = torch.max(outputs.data, 1)\n",
        "\n",
        "        # 统计正确预测的样本数和总样本数\n",
        "        total += labels.size(0)\n",
        "        correct += (predicted.cpu() == labels.cpu()).sum().item()\n",
        "\n",
        "# 打印验证集的精度\n",
        "print('Accuracy of the model on the test images: %d %%' % (100 * correct / total))"
      ]
    },
    {
      "cell_type": "code",
      "execution_count": null,
      "metadata": {
        "colab": {
          "base_uri": "https://localhost:8080/"
        },
        "id": "t3pr50MWlVi-",
        "outputId": "f401d515-f176-46ba-b9e8-3949d47c3c7b"
      },
      "outputs": [],
      "source": [
        "#截取全链接层\n",
        "from torchsummary import summary\n",
        "\n",
        "newmodel = torch.nn.Sequential(*(list(model.children())[:-2]))\n",
        "newmodel = newmodel.to(device)\n"
      ]
    },
    {
      "cell_type": "code",
      "execution_count": 28,
      "metadata": {
        "id": "m5unzVSwz1qo"
      },
      "outputs": [],
      "source": [
        "model= model.to(device)"
      ]
    },
    {
      "cell_type": "code",
      "execution_count": 29,
      "metadata": {
        "colab": {
          "base_uri": "https://localhost:8080/"
        },
        "id": "gCbjnUV0nXRc",
        "outputId": "34dcef6b-26eb-41ea-8431-97a7dec22407"
      },
      "outputs": [
        {
          "data": {
            "text/plain": [
              "Bottleneck(\n",
              "  (conv1): Conv2d(6144, 512, kernel_size=(1, 1), stride=(1, 1), bias=False)\n",
              "  (bn1): BatchNorm2d(512, eps=1e-05, momentum=0.1, affine=True, track_running_stats=True)\n",
              "  (conv2): Conv2d(512, 512, kernel_size=(3, 3), stride=(1, 1), padding=(1, 1), bias=False)\n",
              "  (bn2): BatchNorm2d(6144, eps=1e-05, momentum=0.1, affine=True, track_running_stats=True)\n",
              "  (conv3): Conv2d(512, 6144, kernel_size=(1, 1), stride=(1, 1), bias=False)\n",
              "  (bn3): BatchNorm2d(6144, eps=1e-05, momentum=0.1, affine=True, track_running_stats=True)\n",
              "  (relu): ReLU(inplace=True)\n",
              ")"
            ]
          },
          "execution_count": 29,
          "metadata": {},
          "output_type": "execute_result"
        }
      ],
      "source": [
        "last_conv_layer = model.layer4[-2]"
      ]
    },
    {
      "cell_type": "code",
      "execution_count": 31,
      "metadata": {
        "id": "lP8KegXynbL0"
      },
      "outputs": [],
      "source": [
        "#input_data = input_data.to(torch.cuda.FloatTensor)  # 替换为您的输入数据\n",
        "feature_extractor = torch.nn.Sequential(*list(model.children())[:-1],last_conv_layer).cuda()\n"
      ]
    },
    {
      "cell_type": "code",
      "execution_count": 33,
      "metadata": {
        "id": "RQy2hlmqCcak"
      },
      "outputs": [],
      "source": [
        "second_cohort_x= F.interpolate(second_cohort_x, size=target_size, mode='bilinear', align_corners=False)\n"
      ]
    },
    {
      "cell_type": "code",
      "execution_count": 34,
      "metadata": {
        "id": "z1wtFt-ptUel"
      },
      "outputs": [],
      "source": [
        "second_cohort_x= second_cohort_x.to(device)\n",
        "output_features = feature_extractor(second_cohort_x)"
      ]
    },
    {
      "cell_type": "code",
      "execution_count": 35,
      "metadata": {
        "colab": {
          "base_uri": "https://localhost:8080/"
        },
        "id": "Bzv6XwOkzhmC",
        "outputId": "246c2944-c521-49ed-b143-ecf0bf1088ab"
      },
      "outputs": [
        {
          "data": {
            "text/plain": [
              "torch.Size([408, 6144, 1, 1])"
            ]
          },
          "execution_count": 35,
          "metadata": {},
          "output_type": "execute_result"
        }
      ],
      "source": [
        "output_features.shape"
      ]
    },
    {
      "cell_type": "code",
      "execution_count": 36,
      "metadata": {
        "id": "vOn86mBCtTq_"
      },
      "outputs": [],
      "source": [
        "reshaped_tensor =output_features.reshape(204, 6144)\n"
      ]
    },
    {
      "cell_type": "code",
      "execution_count": 38,
      "metadata": {
        "id": "h718c2FapMVi"
      },
      "outputs": [],
      "source": [
        "np.savetxt('second_cohort_x_tensor.csv', reshaped_tensor.cpu().detach().numpy(), delimiter=',')\n"
      ]
    },
    {
      "cell_type": "code",
      "execution_count": 38,
      "metadata": {
        "id": "zQebPu0qpLv7"
      },
      "outputs": [],
      "source": []
    }
  ],
  "metadata": {
    "accelerator": "GPU",
    "colab": {
      "gpuType": "A100",
      "machine_shape": "hm",
      "provenance": []
    },
    "kernelspec": {
      "display_name": "Python 3",
      "name": "python3"
    },
    "language_info": {
      "name": "python"
    }
  },
  "nbformat": 4,
  "nbformat_minor": 0
}
