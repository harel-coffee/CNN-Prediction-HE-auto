{
  "nbformat": 4,
  "nbformat_minor": 0,
  "metadata": {
    "colab": {
      "provenance": [],
      "machine_shape": "hm",
      "gpuType": "T4"
    },
    "kernelspec": {
      "name": "python3",
      "display_name": "Python 3"
    },
    "language_info": {
      "name": "python"
    },
    "accelerator": "GPU"
  },
  "cells": [
    {
      "cell_type": "code",
      "execution_count": 1,
      "metadata": {
        "colab": {
          "base_uri": "https://localhost:8080/"
        },
        "id": "kZmMdNIzsiG9",
        "outputId": "19e092d9-c006-4de4-8af5-45a5c20a1a81"
      },
      "outputs": [
        {
          "output_type": "stream",
          "name": "stdout",
          "text": [
            "Drive already mounted at /content/drive; to attempt to forcibly remount, call drive.mount(\"/content/drive\", force_remount=True).\n"
          ]
        }
      ],
      "source": [
        "from google.colab import drive\n",
        "drive.mount('/content/drive')"
      ]
    },
    {
      "cell_type": "code",
      "source": [
        "import matplotlib.pyplot as plt\n",
        "import tensorflow as tf\n",
        "import numpy as np\n",
        "import tensorflow.keras as keras\n",
        "from drive.MyDrive.resnet import resnet\n",
        "import cv2"
      ],
      "metadata": {
        "id": "TRAdWYCSsqpa"
      },
      "execution_count": 2,
      "outputs": []
    },
    {
      "cell_type": "code",
      "source": [
        "import tensorflow as tf\n",
        "from tensorflow import keras\n"
      ],
      "metadata": {
        "id": "A12SIuUIsspa"
      },
      "execution_count": 3,
      "outputs": []
    },
    {
      "cell_type": "code",
      "source": [
        "import torch\n",
        "import torch.nn as nn\n",
        "import torchvision.datasets as datasets\n",
        "import torchvision.transforms as transforms\n",
        "import torch.nn.functional as F"
      ],
      "metadata": {
        "id": "mU5C_Q0Swnut"
      },
      "execution_count": 4,
      "outputs": []
    },
    {
      "cell_type": "code",
      "source": [
        "X_data = torch.load('/content/drive/MyDrive/CNN/touch_2d_d2_input_tensor.pt')\n",
        "Y_data = torch.load('/content/drive/MyDrive/CNN/touch_2d_d2_y_train.pt')"
      ],
      "metadata": {
        "id": "8aDLMlJos3eR"
      },
      "execution_count": 5,
      "outputs": []
    },
    {
      "cell_type": "code",
      "source": [
        "from tensorflow.keras.utils import to_categorical\n",
        "from sklearn.preprocessing import LabelEncoder, MinMaxScaler\n",
        "\n",
        "Y_data = LabelEncoder().fit_transform(Y_data)"
      ],
      "metadata": {
        "id": "3tzGQVe4w9NP"
      },
      "execution_count": 6,
      "outputs": []
    },
    {
      "cell_type": "code",
      "source": [
        "X_data.shape"
      ],
      "metadata": {
        "colab": {
          "base_uri": "https://localhost:8080/"
        },
        "id": "VtUmfLMztGly",
        "outputId": "b6889319-350c-4e2d-ce00-cee7d77dc1ea"
      },
      "execution_count": 7,
      "outputs": [
        {
          "output_type": "execute_result",
          "data": {
            "text/plain": [
              "torch.Size([408, 3, 512, 512])"
            ]
          },
          "metadata": {},
          "execution_count": 7
        }
      ]
    },
    {
      "cell_type": "code",
      "source": [
        "target_size = (128, 128)"
      ],
      "metadata": {
        "id": "tgUt6rty6vpG"
      },
      "execution_count": 8,
      "outputs": []
    },
    {
      "cell_type": "code",
      "source": [
        "resized_tensor = F.interpolate(X_data , size=target_size, mode='bilinear', align_corners=False)\n"
      ],
      "metadata": {
        "id": "EfCYVi9362Ub"
      },
      "execution_count": 9,
      "outputs": []
    },
    {
      "cell_type": "code",
      "source": [
        "X_data=resized_tensor"
      ],
      "metadata": {
        "id": "Pf_0YA7X6_EQ"
      },
      "execution_count": 10,
      "outputs": []
    },
    {
      "cell_type": "code",
      "source": [
        "X_data.shape"
      ],
      "metadata": {
        "colab": {
          "base_uri": "https://localhost:8080/"
        },
        "id": "yZgPUFBP7ECm",
        "outputId": "9ece47a3-27e4-44aa-bc6c-dfe81f4f936c"
      },
      "execution_count": 11,
      "outputs": [
        {
          "output_type": "execute_result",
          "data": {
            "text/plain": [
              "torch.Size([408, 3, 128, 128])"
            ]
          },
          "metadata": {},
          "execution_count": 11
        }
      ]
    },
    {
      "cell_type": "code",
      "source": [
        "import torch\n",
        "import torchvision.transforms as transforms\n",
        "\n",
        "# 假设你有原始的数据集 tensor.data 和对应的标签 tensor.labels\n",
        "data = X_data\n",
        "labels =torch.tensor(Y_data)\n",
        "\n",
        "# 计算每个标签的样本数量\n",
        "label_counts = torch.bincount(labels)\n",
        "\n",
        "# 计算样本数量最多的标签的样本数量\n",
        "max_count = label_counts.max().item()\n",
        "\n",
        "# 定义数据扩增的变换\n",
        "transform = transforms.Compose([\n",
        "    # 添加你需要的数据扩增操作，比如随机裁剪、翻转等\n",
        "    transforms.RandomCrop(128),\n",
        "    transforms.RandomHorizontalFlip(),\n",
        "    # 其他数据扩增操作...\n",
        "])\n",
        "\n",
        "# 创建一个空列表，用于存储扩增后的数据和标签\n",
        "augmented_data = []\n",
        "augmented_labels = []\n",
        "\n",
        "# 遍历每个标签\n",
        "for label in torch.unique(labels):\n",
        "    # 获取该标签下的索引\n",
        "    indices = torch.nonzero(labels == label).squeeze()\n",
        "\n",
        "    # 计算需要扩增的样本数量\n",
        "    num_augmented_samples = max_count - label_counts[label]\n",
        "\n",
        "    # 随机选择需要扩增的样本索引\n",
        "    selected_indices = torch.randint(low=0, high=len(indices), size=(num_augmented_samples,))\n",
        "\n",
        "    # 对选中的样本进行数据扩增操作，并将扩增后的数据和标签添加到列表中\n",
        "    for index in selected_indices:\n",
        "        image = data[indices[index]]\n",
        "        augmented_image = transform(image)\n",
        "        augmented_data.append(augmented_image)\n",
        "        augmented_labels.append(label)\n",
        "\n",
        "# 将扩增后的数据和标签转换为张量\n",
        "augmented_data = torch.stack(augmented_data)\n",
        "augmented_labels = torch.tensor(augmented_labels)\n",
        "\n",
        "# 将原始数据和扩增后的数据合并\n",
        "final_data = torch.cat((data, augmented_data))\n",
        "final_labels = torch.cat((labels, augmented_labels))\n"
      ],
      "metadata": {
        "id": "mLOJbB-JtO_K"
      },
      "execution_count": 12,
      "outputs": []
    },
    {
      "cell_type": "code",
      "source": [
        "from imblearn.over_sampling import SMOTE\n",
        "import numpy as np\n",
        "from sklearn.model_selection import train_test_split\n",
        "x_train, x_test, y_train, y_test = train_test_split(final_data, final_labels, stratify=final_labels, test_size=0.2, random_state=42)\n"
      ],
      "metadata": {
        "id": "7W3Yicv93oSJ"
      },
      "execution_count": 13,
      "outputs": []
    },
    {
      "cell_type": "code",
      "source": [
        "from torch.utils.data import Dataset\n",
        "\n",
        "class CustomDataset(Dataset):\n",
        "    def __init__(self, images, labels, transform=None):\n",
        "        self.images = images\n",
        "        self.labels = labels\n",
        "        self.transform = transform\n",
        "\n",
        "    def __len__(self):\n",
        "        return len(self.images)\n",
        "\n",
        "    def __getitem__(self, index):\n",
        "        image = self.images[index]\n",
        "        label = self.labels[index]\n",
        "\n",
        "        if self.transform is not None:\n",
        "            image = self.transform(image)\n",
        "            label = self.transform(label)\n",
        "\n",
        "        return image, label\n",
        "transform = transforms.Compose([\n",
        "    transforms.ToTensor(),  # 转换为张量\n",
        "    transforms.Normalize(mean=[0.5, 0.5, 0.5], std=[0.5, 0.5, 0.5])  # 标准化\n",
        "])\n",
        "\n",
        "\n",
        "\n"
      ],
      "metadata": {
        "id": "OKYq9RJ1trUZ"
      },
      "execution_count": 14,
      "outputs": []
    },
    {
      "cell_type": "code",
      "source": [
        "train_dataset=CustomDataset(x_train, y_train)\n",
        "test_dataset=CustomDataset(x_test, y_test )\n",
        "\n",
        "# 定义数据加载器\n",
        "shuffle = True\n",
        "\n"
      ],
      "metadata": {
        "id": "aL2fDCMttRZb"
      },
      "execution_count": 15,
      "outputs": []
    },
    {
      "cell_type": "code",
      "source": [
        "batch_size = 128\n",
        "train_loader = torch.utils.data.DataLoader(train_dataset, batch_size=batch_size, shuffle=shuffle)\n",
        "test_loader = torch.utils.data.DataLoader(test_dataset, batch_size=batch_size, shuffle=shuffle)"
      ],
      "metadata": {
        "id": "BHFxg47BtzQi"
      },
      "execution_count": 16,
      "outputs": []
    },
    {
      "cell_type": "code",
      "source": [
        "import torch.nn as nn\n",
        "import torchvision.models as models"
      ],
      "metadata": {
        "id": "QFyI6vCit5dR"
      },
      "execution_count": 17,
      "outputs": []
    },
    {
      "cell_type": "code",
      "source": [
        "modelnet = models.inception_v3(pretrained=True)"
      ],
      "metadata": {
        "id": "fQ-ZG-PQCitQ"
      },
      "execution_count": 19,
      "outputs": []
    },
    {
      "cell_type": "code",
      "source": [
        "from torchvision.utils import make_grid\n",
        "for images, labels in train_loader:\n",
        "    print('Images Shape:', images.shape)\n",
        "    plt.figure(figsize=(16,8))\n",
        "    plt.axis('off')\n",
        "    plt.imshow(make_grid(images, nrow=16).permute((1, 2, 0)))\n",
        "    break"
      ],
      "metadata": {
        "id": "C1VRBSbit9Mh"
      },
      "execution_count": null,
      "outputs": []
    },
    {
      "cell_type": "code",
      "source": [
        "num_epochs = 100\n",
        "learning_rate = 0.001"
      ],
      "metadata": {
        "id": "JL7d8TJGwNa2"
      },
      "execution_count": 21,
      "outputs": []
    },
    {
      "cell_type": "code",
      "source": [
        "# 创建Net网络模型\n",
        "if torch.cuda.is_available():\n",
        "   modelnet.cuda()\n",
        "device = torch.device(\"cuda\")\n",
        "#resnet.cuda()\n",
        "# 获取Net模型的最后一个全连接层\n",
        "num_ftrs = modelnet.fc.in_features\n",
        "resnet.fc = nn.Linear(num_ftrs, 2)\n",
        "last_fully_connected_layer = modelnet.fc\n",
        "\n",
        "# 定义损失函数和优化器\n",
        "criterion = nn.CrossEntropyLoss()\n",
        "optimizer = torch.optim.Adam(modelnet.parameters(), lr=learning_rate)\n",
        "\n",
        "# 训练模型\n",
        "for epoch in range(num_epochs):\n",
        "    for i, (images, labels) in enumerate(train_loader):\n",
        "        # 将数据移动到GPU\n",
        "        if torch.cuda.is_available():\n",
        "            resnet = modelnet.to(device)\n",
        "            images = images.cuda()\n",
        "            labels = labels.cuda()\n",
        "\n",
        "        # 前向传递，反向传递，优化器更新\n",
        "        outputs = modelnet(images)\n",
        "        loss = criterion(outputs, labels)\n",
        "        optimizer.zero_grad()\n",
        "        loss.backward()\n",
        "        optimizer.step()\n",
        "\n",
        "        # 输出训练信息\n",
        "        if (i + 1) % 100 == 0:\n",
        "            print('Epoch [%d/%d], Iter [%d/%d] Loss: %.4f' % (epoch+1, num_epochs, i+1, len(train_dataset)//batch_size, loss.item()))\n",
        "# 提取最后一个全连接层\n",
        "last_fc_layer_weights = last_fully_connected_layer.weight\n",
        "last_fc_layer_biases = last_fully_connected_layer.bias\n",
        "\n",
        "# 打印最后一个全连接层的权重和偏置向量的形状\n",
        "print(last_fc_layer_weights.shape)  # 输出: torch.Size([10, 512])\n",
        "print(last_fc_layer_biases.shape)  # 输出: torch.Size([10])"
      ],
      "metadata": {
        "colab": {
          "base_uri": "https://localhost:8080/"
        },
        "id": "-nJvMHBXwX_W",
        "outputId": "d968b09f-a66d-4ff3-9eab-88d925554533"
      },
      "execution_count": 25,
      "outputs": [
        {
          "output_type": "stream",
          "name": "stdout",
          "text": [
            "torch.Size([2, 2048])\n",
            "torch.Size([2])\n"
          ]
        }
      ]
    },
    {
      "cell_type": "code",
      "source": [
        "correct = 0\n",
        "total = 0\n",
        "with torch.no_grad():\n",
        "    for images, labels in test_loader:\n",
        "        # 将数据移动到GPU\n",
        "        if torch.cuda.is_available():\n",
        "            resnet = modelnet.to(device)\n",
        "            images = images.cuda()\n",
        "            labels = labels.cuda()\n",
        "\n",
        "        # 前向传递，并获取最大预测值的索引\n",
        "        outputs = resnet(images)\n",
        "        _, predicted = torch.max(outputs.data, 1)\n",
        "\n",
        "        # 统计正确预测的样本数和总样本数\n",
        "        total += labels.size(0)\n",
        "        correct += (predicted.cpu() == labels.cpu()).sum().item()\n",
        "\n",
        "# 打印验证集的精度\n",
        "print('Accuracy of the model on the test images: %d %%' % (100 * correct / total))"
      ],
      "metadata": {
        "id": "jvaFyz8R9Mjl",
        "outputId": "c5c00db7-ee24-4d77-9850-2707245670ac",
        "colab": {
          "base_uri": "https://localhost:8080/"
        }
      },
      "execution_count": 24,
      "outputs": [
        {
          "output_type": "stream",
          "name": "stdout",
          "text": [
            "Accuracy of the model on the test images: 90 %\n"
          ]
        }
      ]
    }
  ]
}