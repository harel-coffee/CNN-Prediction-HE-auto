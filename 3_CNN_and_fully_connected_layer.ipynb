{
  "cells": [
    {
      "cell_type": "code",
      "execution_count": 1,
      "metadata": {
        "colab": {
          "base_uri": "https://localhost:8080/"
        },
        "id": "kZmMdNIzsiG9",
        "outputId": "19e092d9-c006-4de4-8af5-45a5c20a1a81"
      },
      "outputs": [
        {
          "name": "stdout",
          "output_type": "stream",
          "text": [
            "Drive already mounted at /content/drive; to attempt to forcibly remount, call drive.mount(\"/content/drive\", force_remount=True).\n"
          ]
        }
      ],
      "source": [
        "from google.colab import drive\n",
        "drive.mount('/content/drive')"
      ]
    },
    {
      "cell_type": "code",
      "execution_count": 2,
      "metadata": {
        "id": "TRAdWYCSsqpa"
      },
      "outputs": [],
      "source": [
        "import matplotlib.pyplot as plt\n",
        "import tensorflow as tf\n",
        "import numpy as np\n",
        "import tensorflow.keras as keras\n",
        "from drive.MyDrive.resnet import resnet\n",
        "import cv2"
      ]
    },
    {
      "cell_type": "code",
      "execution_count": 3,
      "metadata": {
        "id": "A12SIuUIsspa"
      },
      "outputs": [],
      "source": [
        "import tensorflow as tf\n",
        "from tensorflow import keras\n"
      ]
    },
    {
      "cell_type": "code",
      "execution_count": 4,
      "metadata": {
        "id": "mU5C_Q0Swnut"
      },
      "outputs": [],
      "source": [
        "import torch\n",
        "import torch.nn as nn\n",
        "import torchvision.datasets as datasets\n",
        "import torchvision.transforms as transforms\n",
        "import torch.nn.functional as F"
      ]
    },
    {
      "cell_type": "code",
      "execution_count": 5,
      "metadata": {
        "id": "8aDLMlJos3eR"
      },
      "outputs": [],
      "source": [
        "X_data = torch.load('/content/drive/MyDrive/CNN/touch_2d_d2_input_tensor.pt')\n",
        "Y_data = torch.load('/content/drive/MyDrive/CNN/touch_2d_d2_y_train.pt')"
      ]
    },
    {
      "cell_type": "code",
      "execution_count": 6,
      "metadata": {
        "id": "3tzGQVe4w9NP"
      },
      "outputs": [],
      "source": [
        "from tensorflow.keras.utils import to_categorical\n",
        "from sklearn.preprocessing import LabelEncoder, MinMaxScaler\n",
        "\n",
        "Y_data = LabelEncoder().fit_transform(Y_data)"
      ]
    },
    {
      "cell_type": "code",
      "execution_count": 7,
      "metadata": {
        "colab": {
          "base_uri": "https://localhost:8080/"
        },
        "id": "VtUmfLMztGly",
        "outputId": "b6889319-350c-4e2d-ce00-cee7d77dc1ea"
      },
      "outputs": [
        {
          "data": {
            "text/plain": [
              "torch.Size([408, 3, 512, 512])"
            ]
          },
          "execution_count": 7,
          "metadata": {},
          "output_type": "execute_result"
        }
      ],
      "source": [
        "X_data.shape"
      ]
    },
    {
      "cell_type": "code",
      "execution_count": 8,
      "metadata": {
        "id": "tgUt6rty6vpG"
      },
      "outputs": [],
      "source": [
        "target_size = (299, 299)"
      ]
    },
    {
      "cell_type": "code",
      "execution_count": 9,
      "metadata": {
        "id": "EfCYVi9362Ub"
      },
      "outputs": [],
      "source": [
        "resized_tensor = F.interpolate(X_data , size=target_size, mode='bilinear', align_corners=False)\n"
      ]
    },
    {
      "cell_type": "code",
      "execution_count": 10,
      "metadata": {
        "id": "Pf_0YA7X6_EQ"
      },
      "outputs": [],
      "source": [
        "X_data=resized_tensor"
      ]
    },
    {
      "cell_type": "code",
      "execution_count": 11,
      "metadata": {
        "colab": {
          "base_uri": "https://localhost:8080/"
        },
        "id": "yZgPUFBP7ECm",
        "outputId": "9ece47a3-27e4-44aa-bc6c-dfe81f4f936c"
      },
      "outputs": [
        {
          "data": {
            "text/plain": [
              "torch.Size([408, 3, 299, 299])"
            ]
          },
          "execution_count": 11,
          "metadata": {},
          "output_type": "execute_result"
        }
      ],
      "source": [
        "X_data.shape"
      ]
    },
    {
      "cell_type": "code",
      "execution_count": 12,
      "metadata": {
        "id": "mLOJbB-JtO_K"
      },
      "outputs": [],
      "source": [
        "import torch\n",
        "import torchvision.transforms as transforms\n",
        "\n",
        "# 假设你有原始的数据集 tensor.data 和对应的标签 tensor.labels\n",
        "data = X_data\n",
        "labels =torch.tensor(Y_data)\n",
        "\n",
        "# 计算每个标签的样本数量\n",
        "label_counts = torch.bincount(labels)\n",
        "\n",
        "# 计算样本数量最多的标签的样本数量\n",
        "max_count = label_counts.max().item()\n",
        "\n",
        "# 定义数据扩增的变换\n",
        "transform = transforms.Compose([\n",
        "    # 添加你需要的数据扩增操作，比如随机裁剪、翻转等\n",
        "    transforms.RandomCrop(299),\n",
        "    transforms.RandomHorizontalFlip(),\n",
        "    # 其他数据扩增操作...\n",
        "])\n",
        "\n",
        "# 创建一个空列表，用于存储扩增后的数据和标签\n",
        "augmented_data = []\n",
        "augmented_labels = []\n",
        "\n",
        "# 遍历每个标签\n",
        "for label in torch.unique(labels):\n",
        "    # 获取该标签下的索引\n",
        "    indices = torch.nonzero(labels == label).squeeze()\n",
        "\n",
        "    # 计算需要扩增的样本数量\n",
        "    num_augmented_samples = max_count - label_counts[label]\n",
        "\n",
        "    # 随机选择需要扩增的样本索引\n",
        "    selected_indices = torch.randint(low=0, high=len(indices), size=(num_augmented_samples,))\n",
        "\n",
        "    # 对选中的样本进行数据扩增操作，并将扩增后的数据和标签添加到列表中\n",
        "    for index in selected_indices:\n",
        "        image = data[indices[index]]\n",
        "        augmented_image = transform(image)\n",
        "        augmented_data.append(augmented_image)\n",
        "        augmented_labels.append(label)\n",
        "\n",
        "# 将扩增后的数据和标签转换为张量\n",
        "augmented_data = torch.stack(augmented_data)\n",
        "augmented_labels = torch.tensor(augmented_labels)\n",
        "\n",
        "# 将原始数据和扩增后的数据合并\n",
        "final_data = torch.cat((data, augmented_data))\n",
        "final_labels = torch.cat((labels, augmented_labels))\n"
      ]
    },
    {
      "cell_type": "code",
      "execution_count": 13,
      "metadata": {
        "id": "7W3Yicv93oSJ"
      },
      "outputs": [],
      "source": [
        "from imblearn.over_sampling import SMOTE\n",
        "import numpy as np\n",
        "from sklearn.model_selection import train_test_split\n",
        "x_train, x_test, y_train, y_test = train_test_split(final_data, final_labels, stratify=final_labels, test_size=0.2, random_state=42)\n"
      ]
    },
    {
      "cell_type": "code",
      "execution_count": 14,
      "metadata": {
        "id": "OKYq9RJ1trUZ"
      },
      "outputs": [],
      "source": [
        "from torch.utils.data import Dataset\n",
        "\n",
        "class CustomDataset(Dataset):\n",
        "    def __init__(self, images, labels, transform=None):\n",
        "        self.images = images\n",
        "        self.labels = labels\n",
        "        self.transform = transform\n",
        "\n",
        "    def __len__(self):\n",
        "        return len(self.images)\n",
        "\n",
        "    def __getitem__(self, index):\n",
        "        image = self.images[index]\n",
        "        label = self.labels[index]\n",
        "\n",
        "        if self.transform is not None:\n",
        "            image = self.transform(image)\n",
        "            label = self.transform(label)\n",
        "\n",
        "        return image, label\n",
        "transform = transforms.Compose([\n",
        "    transforms.ToTensor(),  # 转换为张量\n",
        "    transforms.Normalize(mean=[0.5, 0.5, 0.5], std=[0.5, 0.5, 0.5])  # 标准化\n",
        "])\n",
        "\n",
        "\n",
        "\n"
      ]
    },
    {
      "cell_type": "code",
      "execution_count": 15,
      "metadata": {
        "id": "aL2fDCMttRZb"
      },
      "outputs": [],
      "source": [
        "train_dataset=CustomDataset(x_train, y_train)\n",
        "test_dataset=CustomDataset(x_test, y_test )\n",
        "\n",
        "# 定义数据加载器\n",
        "shuffle = True\n",
        "\n"
      ]
    },
    {
      "cell_type": "code",
      "execution_count": 16,
      "metadata": {
        "id": "BHFxg47BtzQi"
      },
      "outputs": [],
      "source": [
        "batch_size = 128\n",
        "train_loader = torch.utils.data.DataLoader(train_dataset, batch_size=batch_size, shuffle=shuffle)\n",
        "test_loader = torch.utils.data.DataLoader(test_dataset, batch_size=batch_size, shuffle=shuffle)"
      ]
    },
    {
      "cell_type": "code",
      "execution_count": 17,
      "metadata": {
        "id": "QFyI6vCit5dR"
      },
      "outputs": [],
      "source": [
        "import torch.nn as nn\n",
        "import torchvision.models as models"
      ]
    },
    {
      "cell_type": "code",
      "execution_count": 19,
      "metadata": {
        "id": "fQ-ZG-PQCitQ"
      },
      "outputs": [],
      "source": [
        "modelnet = models.inception_v3(pretrained=True)"
      ]
    },
    {
      "cell_type": "code",
      "execution_count": null,
      "metadata": {
        "id": "C1VRBSbit9Mh"
      },
      "outputs": [],
      "source": [
        "from torchvision.utils import make_grid\n",
        "for images, labels in train_loader:\n",
        "    print('Images Shape:', images.shape)\n",
        "    plt.figure(figsize=(16,8))\n",
        "    plt.axis('off')\n",
        "    plt.imshow(make_grid(images, nrow=16).permute((1, 2, 0)))\n",
        "    break"
      ]
    },
    {
      "cell_type": "code",
      "execution_count": 21,
      "metadata": {
        "id": "JL7d8TJGwNa2"
      },
      "outputs": [],
      "source": [
        "num_epochs = 100\n",
        "learning_rate = 0.001"
      ]
    },
    {
      "cell_type": "code",
      "execution_count": 25,
      "metadata": {
        "colab": {
          "base_uri": "https://localhost:8080/"
        },
        "id": "-nJvMHBXwX_W",
        "outputId": "d968b09f-a66d-4ff3-9eab-88d925554533"
      },
      "outputs": [
        {
          "name": "stdout",
          "output_type": "stream",
          "text": [
            "torch.Size([2, 2048])\n",
            "torch.Size([2])\n"
          ]
        }
      ],
      "source": [
        "# 创建Net网络模型\n",
        "if torch.cuda.is_available():\n",
        "   modelnet.cuda()\n",
        "device = torch.device(\"cuda\")\n",
        "#resnet.cuda()\n",
        "# 获取Net模型的最后一个全连接层\n",
        "num_ftrs = modelnet.fc.in_features\n",
        "resnet.fc = nn.Linear(num_ftrs, 2)\n",
        "last_fully_connected_layer = modelnet.fc\n",
        "\n",
        "# 定义损失函数和优化器\n",
        "criterion = nn.CrossEntropyLoss()\n",
        "optimizer = torch.optim.Adam(modelnet.parameters(), lr=learning_rate)\n",
        "\n",
        "# 训练模型\n",
        "for epoch in range(num_epochs):\n",
        "    for i, (images, labels) in enumerate(train_loader):\n",
        "        # 将数据移动到GPU\n",
        "        if torch.cuda.is_available():\n",
        "            resnet = modelnet.to(device)\n",
        "            images = images.cuda()\n",
        "            labels = labels.cuda()\n",
        "\n",
        "        # 前向传递，反向传递，优化器更新\n",
        "        outputs = modelnet(images)\n",
        "        loss = criterion(outputs, labels)\n",
        "        optimizer.zero_grad()\n",
        "        loss.backward()\n",
        "        optimizer.step()\n",
        "\n",
        "        # 输出训练信息\n",
        "        if (i + 1) % 100 == 0:\n",
        "            print('Epoch [%d/%d], Iter [%d/%d] Loss: %.4f' % (epoch+1, num_epochs, i+1, len(train_dataset)//batch_size, loss.item()))\n",
        "# 提取最后一个全连接层\n",
        "last_fc_layer_weights = last_fully_connected_layer.weight\n",
        "last_fc_layer_biases = last_fully_connected_layer.bias\n",
        "\n",
        "# 打印最后一个全连接层的权重和偏置向量的形状\n",
        "print(last_fc_layer_weights.shape) \n",
        "print(last_fc_layer_biases.shape)  "
      ]
    },
    {
      "cell_type": "code",
      "execution_count": 24,
      "metadata": {
        "colab": {
          "base_uri": "https://localhost:8080/"
        },
        "id": "jvaFyz8R9Mjl",
        "outputId": "c5c00db7-ee24-4d77-9850-2707245670ac"
      },
      "outputs": [
        {
          "name": "stdout",
          "output_type": "stream",
          "text": [
            "Accuracy of the model on the test images: 90 %\n"
          ]
        }
      ],
      "source": [
        "correct = 0\n",
        "total = 0\n",
        "with torch.no_grad():\n",
        "    for images, labels in test_loader:\n",
        "        # 将数据移动到GPU\n",
        "        if torch.cuda.is_available():\n",
        "            resnet = modelnet.to(device)\n",
        "            images = images.cuda()\n",
        "            labels = labels.cuda()\n",
        "\n",
        "        # 前向传递，并获取最大预测值的索引\n",
        "        outputs = resnet(images)\n",
        "        _, predicted = torch.max(outputs.data, 1)\n",
        "\n",
        "        # 统计正确预测的样本数和总样本数\n",
        "        total += labels.size(0)\n",
        "        correct += (predicted.cpu() == labels.cpu()).sum().item()\n",
        "\n",
        "# 打印验证集的精度\n",
        "print('Accuracy of the model on the test images: %d %%' % (100 * correct / total))"
      ]
    },
    {
      "cell_type": "code",
      "execution_count": 57,
      "metadata": {
        "colab": {
          "base_uri": "https://localhost:8080/"
        },
        "id": "3yIXgeFbZcfH",
        "outputId": "85a1c878-27f0-4e28-e6b3-916c2fa716bb"
      },
      "outputs": [
        {
          "name": "stdout",
          "output_type": "stream",
          "text": [
            "----------------------------------------------------------------\n",
            "        Layer (type)               Output Shape         Param #\n",
            "================================================================\n",
            "            Conv2d-1         [-1, 64, 150, 150]           9,408\n",
            "       BatchNorm2d-2         [-1, 64, 150, 150]             128\n",
            "              ReLU-3         [-1, 64, 150, 150]               0\n",
            "         MaxPool2d-4           [-1, 64, 75, 75]               0\n",
            "            Conv2d-5           [-1, 64, 75, 75]           4,096\n",
            "       BatchNorm2d-6           [-1, 64, 75, 75]             128\n",
            "              ReLU-7           [-1, 64, 75, 75]               0\n",
            "            Conv2d-8           [-1, 64, 75, 75]          36,864\n",
            "       BatchNorm2d-9           [-1, 64, 75, 75]             128\n",
            "             ReLU-10           [-1, 64, 75, 75]               0\n",
            "           Conv2d-11          [-1, 256, 75, 75]          16,384\n",
            "      BatchNorm2d-12          [-1, 256, 75, 75]             512\n",
            "           Conv2d-13          [-1, 256, 75, 75]          16,384\n",
            "      BatchNorm2d-14          [-1, 256, 75, 75]             512\n",
            "             ReLU-15          [-1, 256, 75, 75]               0\n",
            "       Bottleneck-16          [-1, 256, 75, 75]               0\n",
            "           Conv2d-17           [-1, 64, 75, 75]          16,384\n",
            "      BatchNorm2d-18           [-1, 64, 75, 75]             128\n",
            "             ReLU-19           [-1, 64, 75, 75]               0\n",
            "           Conv2d-20           [-1, 64, 75, 75]          36,864\n",
            "      BatchNorm2d-21           [-1, 64, 75, 75]             128\n",
            "             ReLU-22           [-1, 64, 75, 75]               0\n",
            "           Conv2d-23          [-1, 256, 75, 75]          16,384\n",
            "      BatchNorm2d-24          [-1, 256, 75, 75]             512\n",
            "             ReLU-25          [-1, 256, 75, 75]               0\n",
            "       Bottleneck-26          [-1, 256, 75, 75]               0\n",
            "           Conv2d-27           [-1, 64, 75, 75]          16,384\n",
            "      BatchNorm2d-28           [-1, 64, 75, 75]             128\n",
            "             ReLU-29           [-1, 64, 75, 75]               0\n",
            "           Conv2d-30           [-1, 64, 75, 75]          36,864\n",
            "      BatchNorm2d-31           [-1, 64, 75, 75]             128\n",
            "             ReLU-32           [-1, 64, 75, 75]               0\n",
            "           Conv2d-33          [-1, 256, 75, 75]          16,384\n",
            "      BatchNorm2d-34          [-1, 256, 75, 75]             512\n",
            "             ReLU-35          [-1, 256, 75, 75]               0\n",
            "       Bottleneck-36          [-1, 256, 75, 75]               0\n",
            "           Conv2d-37          [-1, 128, 75, 75]          32,768\n",
            "      BatchNorm2d-38          [-1, 128, 75, 75]             256\n",
            "             ReLU-39          [-1, 128, 75, 75]               0\n",
            "           Conv2d-40          [-1, 128, 38, 38]         147,456\n",
            "      BatchNorm2d-41          [-1, 128, 38, 38]             256\n",
            "             ReLU-42          [-1, 128, 38, 38]               0\n",
            "           Conv2d-43          [-1, 512, 38, 38]          65,536\n",
            "      BatchNorm2d-44          [-1, 512, 38, 38]           1,024\n",
            "           Conv2d-45          [-1, 512, 38, 38]         131,072\n",
            "      BatchNorm2d-46          [-1, 512, 38, 38]           1,024\n",
            "             ReLU-47          [-1, 512, 38, 38]               0\n",
            "       Bottleneck-48          [-1, 512, 38, 38]               0\n",
            "           Conv2d-49          [-1, 128, 38, 38]          65,536\n",
            "      BatchNorm2d-50          [-1, 128, 38, 38]             256\n",
            "             ReLU-51          [-1, 128, 38, 38]               0\n",
            "           Conv2d-52          [-1, 128, 38, 38]         147,456\n",
            "      BatchNorm2d-53          [-1, 128, 38, 38]             256\n",
            "             ReLU-54          [-1, 128, 38, 38]               0\n",
            "           Conv2d-55          [-1, 512, 38, 38]          65,536\n",
            "      BatchNorm2d-56          [-1, 512, 38, 38]           1,024\n",
            "             ReLU-57          [-1, 512, 38, 38]               0\n",
            "       Bottleneck-58          [-1, 512, 38, 38]               0\n",
            "           Conv2d-59          [-1, 128, 38, 38]          65,536\n",
            "      BatchNorm2d-60          [-1, 128, 38, 38]             256\n",
            "             ReLU-61          [-1, 128, 38, 38]               0\n",
            "           Conv2d-62          [-1, 128, 38, 38]         147,456\n",
            "      BatchNorm2d-63          [-1, 128, 38, 38]             256\n",
            "             ReLU-64          [-1, 128, 38, 38]               0\n",
            "           Conv2d-65          [-1, 512, 38, 38]          65,536\n",
            "      BatchNorm2d-66          [-1, 512, 38, 38]           1,024\n",
            "             ReLU-67          [-1, 512, 38, 38]               0\n",
            "       Bottleneck-68          [-1, 512, 38, 38]               0\n",
            "           Conv2d-69          [-1, 128, 38, 38]          65,536\n",
            "      BatchNorm2d-70          [-1, 128, 38, 38]             256\n",
            "             ReLU-71          [-1, 128, 38, 38]               0\n",
            "           Conv2d-72          [-1, 128, 38, 38]         147,456\n",
            "      BatchNorm2d-73          [-1, 128, 38, 38]             256\n",
            "             ReLU-74          [-1, 128, 38, 38]               0\n",
            "           Conv2d-75          [-1, 512, 38, 38]          65,536\n",
            "      BatchNorm2d-76          [-1, 512, 38, 38]           1,024\n",
            "             ReLU-77          [-1, 512, 38, 38]               0\n",
            "       Bottleneck-78          [-1, 512, 38, 38]               0\n",
            "           Conv2d-79          [-1, 256, 38, 38]         131,072\n",
            "      BatchNorm2d-80          [-1, 256, 38, 38]             512\n",
            "             ReLU-81          [-1, 256, 38, 38]               0\n",
            "           Conv2d-82          [-1, 256, 19, 19]         589,824\n",
            "      BatchNorm2d-83          [-1, 256, 19, 19]             512\n",
            "             ReLU-84          [-1, 256, 19, 19]               0\n",
            "           Conv2d-85         [-1, 1024, 19, 19]         262,144\n",
            "      BatchNorm2d-86         [-1, 1024, 19, 19]           2,048\n",
            "           Conv2d-87         [-1, 1024, 19, 19]         524,288\n",
            "      BatchNorm2d-88         [-1, 1024, 19, 19]           2,048\n",
            "             ReLU-89         [-1, 1024, 19, 19]               0\n",
            "       Bottleneck-90         [-1, 1024, 19, 19]               0\n",
            "           Conv2d-91          [-1, 256, 19, 19]         262,144\n",
            "      BatchNorm2d-92          [-1, 256, 19, 19]             512\n",
            "             ReLU-93          [-1, 256, 19, 19]               0\n",
            "           Conv2d-94          [-1, 256, 19, 19]         589,824\n",
            "      BatchNorm2d-95          [-1, 256, 19, 19]             512\n",
            "             ReLU-96          [-1, 256, 19, 19]               0\n",
            "           Conv2d-97         [-1, 1024, 19, 19]         262,144\n",
            "      BatchNorm2d-98         [-1, 1024, 19, 19]           2,048\n",
            "             ReLU-99         [-1, 1024, 19, 19]               0\n",
            "      Bottleneck-100         [-1, 1024, 19, 19]               0\n",
            "          Conv2d-101          [-1, 256, 19, 19]         262,144\n",
            "     BatchNorm2d-102          [-1, 256, 19, 19]             512\n",
            "            ReLU-103          [-1, 256, 19, 19]               0\n",
            "          Conv2d-104          [-1, 256, 19, 19]         589,824\n",
            "     BatchNorm2d-105          [-1, 256, 19, 19]             512\n",
            "            ReLU-106          [-1, 256, 19, 19]               0\n",
            "          Conv2d-107         [-1, 1024, 19, 19]         262,144\n",
            "     BatchNorm2d-108         [-1, 1024, 19, 19]           2,048\n",
            "            ReLU-109         [-1, 1024, 19, 19]               0\n",
            "      Bottleneck-110         [-1, 1024, 19, 19]               0\n",
            "          Conv2d-111          [-1, 256, 19, 19]         262,144\n",
            "     BatchNorm2d-112          [-1, 256, 19, 19]             512\n",
            "            ReLU-113          [-1, 256, 19, 19]               0\n",
            "          Conv2d-114          [-1, 256, 19, 19]         589,824\n",
            "     BatchNorm2d-115          [-1, 256, 19, 19]             512\n",
            "            ReLU-116          [-1, 256, 19, 19]               0\n",
            "          Conv2d-117         [-1, 1024, 19, 19]         262,144\n",
            "     BatchNorm2d-118         [-1, 1024, 19, 19]           2,048\n",
            "            ReLU-119         [-1, 1024, 19, 19]               0\n",
            "      Bottleneck-120         [-1, 1024, 19, 19]               0\n",
            "          Conv2d-121          [-1, 256, 19, 19]         262,144\n",
            "     BatchNorm2d-122          [-1, 256, 19, 19]             512\n",
            "            ReLU-123          [-1, 256, 19, 19]               0\n",
            "          Conv2d-124          [-1, 256, 19, 19]         589,824\n",
            "     BatchNorm2d-125          [-1, 256, 19, 19]             512\n",
            "            ReLU-126          [-1, 256, 19, 19]               0\n",
            "          Conv2d-127         [-1, 1024, 19, 19]         262,144\n",
            "     BatchNorm2d-128         [-1, 1024, 19, 19]           2,048\n",
            "            ReLU-129         [-1, 1024, 19, 19]               0\n",
            "      Bottleneck-130         [-1, 1024, 19, 19]               0\n",
            "          Conv2d-131          [-1, 256, 19, 19]         262,144\n",
            "     BatchNorm2d-132          [-1, 256, 19, 19]             512\n",
            "            ReLU-133          [-1, 256, 19, 19]               0\n",
            "          Conv2d-134          [-1, 256, 19, 19]         589,824\n",
            "     BatchNorm2d-135          [-1, 256, 19, 19]             512\n",
            "            ReLU-136          [-1, 256, 19, 19]               0\n",
            "          Conv2d-137         [-1, 1024, 19, 19]         262,144\n",
            "     BatchNorm2d-138         [-1, 1024, 19, 19]           2,048\n",
            "            ReLU-139         [-1, 1024, 19, 19]               0\n",
            "      Bottleneck-140         [-1, 1024, 19, 19]               0\n",
            "          Conv2d-141          [-1, 256, 19, 19]         262,144\n",
            "     BatchNorm2d-142          [-1, 256, 19, 19]             512\n",
            "            ReLU-143          [-1, 256, 19, 19]               0\n",
            "          Conv2d-144          [-1, 256, 19, 19]         589,824\n",
            "     BatchNorm2d-145          [-1, 256, 19, 19]             512\n",
            "            ReLU-146          [-1, 256, 19, 19]               0\n",
            "          Conv2d-147         [-1, 1024, 19, 19]         262,144\n",
            "     BatchNorm2d-148         [-1, 1024, 19, 19]           2,048\n",
            "            ReLU-149         [-1, 1024, 19, 19]               0\n",
            "      Bottleneck-150         [-1, 1024, 19, 19]               0\n",
            "          Conv2d-151          [-1, 256, 19, 19]         262,144\n",
            "     BatchNorm2d-152          [-1, 256, 19, 19]             512\n",
            "            ReLU-153          [-1, 256, 19, 19]               0\n",
            "          Conv2d-154          [-1, 256, 19, 19]         589,824\n",
            "     BatchNorm2d-155          [-1, 256, 19, 19]             512\n",
            "            ReLU-156          [-1, 256, 19, 19]               0\n",
            "          Conv2d-157         [-1, 1024, 19, 19]         262,144\n",
            "     BatchNorm2d-158         [-1, 1024, 19, 19]           2,048\n",
            "            ReLU-159         [-1, 1024, 19, 19]               0\n",
            "      Bottleneck-160         [-1, 1024, 19, 19]               0\n",
            "          Conv2d-161          [-1, 256, 19, 19]         262,144\n",
            "     BatchNorm2d-162          [-1, 256, 19, 19]             512\n",
            "            ReLU-163          [-1, 256, 19, 19]               0\n",
            "          Conv2d-164          [-1, 256, 19, 19]         589,824\n",
            "     BatchNorm2d-165          [-1, 256, 19, 19]             512\n",
            "            ReLU-166          [-1, 256, 19, 19]               0\n",
            "          Conv2d-167         [-1, 1024, 19, 19]         262,144\n",
            "     BatchNorm2d-168         [-1, 1024, 19, 19]           2,048\n",
            "            ReLU-169         [-1, 1024, 19, 19]               0\n",
            "      Bottleneck-170         [-1, 1024, 19, 19]               0\n",
            "          Conv2d-171          [-1, 256, 19, 19]         262,144\n",
            "     BatchNorm2d-172          [-1, 256, 19, 19]             512\n",
            "            ReLU-173          [-1, 256, 19, 19]               0\n",
            "          Conv2d-174          [-1, 256, 19, 19]         589,824\n",
            "     BatchNorm2d-175          [-1, 256, 19, 19]             512\n",
            "            ReLU-176          [-1, 256, 19, 19]               0\n",
            "          Conv2d-177         [-1, 1024, 19, 19]         262,144\n",
            "     BatchNorm2d-178         [-1, 1024, 19, 19]           2,048\n",
            "            ReLU-179         [-1, 1024, 19, 19]               0\n",
            "      Bottleneck-180         [-1, 1024, 19, 19]               0\n",
            "          Conv2d-181          [-1, 256, 19, 19]         262,144\n",
            "     BatchNorm2d-182          [-1, 256, 19, 19]             512\n",
            "            ReLU-183          [-1, 256, 19, 19]               0\n",
            "          Conv2d-184          [-1, 256, 19, 19]         589,824\n",
            "     BatchNorm2d-185          [-1, 256, 19, 19]             512\n",
            "            ReLU-186          [-1, 256, 19, 19]               0\n",
            "          Conv2d-187         [-1, 1024, 19, 19]         262,144\n",
            "     BatchNorm2d-188         [-1, 1024, 19, 19]           2,048\n",
            "            ReLU-189         [-1, 1024, 19, 19]               0\n",
            "      Bottleneck-190         [-1, 1024, 19, 19]               0\n",
            "          Conv2d-191          [-1, 256, 19, 19]         262,144\n",
            "     BatchNorm2d-192          [-1, 256, 19, 19]             512\n",
            "            ReLU-193          [-1, 256, 19, 19]               0\n",
            "          Conv2d-194          [-1, 256, 19, 19]         589,824\n",
            "     BatchNorm2d-195          [-1, 256, 19, 19]             512\n",
            "            ReLU-196          [-1, 256, 19, 19]               0\n",
            "          Conv2d-197         [-1, 1024, 19, 19]         262,144\n",
            "     BatchNorm2d-198         [-1, 1024, 19, 19]           2,048\n",
            "            ReLU-199         [-1, 1024, 19, 19]               0\n",
            "      Bottleneck-200         [-1, 1024, 19, 19]               0\n",
            "          Conv2d-201          [-1, 256, 19, 19]         262,144\n",
            "     BatchNorm2d-202          [-1, 256, 19, 19]             512\n",
            "            ReLU-203          [-1, 256, 19, 19]               0\n",
            "          Conv2d-204          [-1, 256, 19, 19]         589,824\n",
            "     BatchNorm2d-205          [-1, 256, 19, 19]             512\n",
            "            ReLU-206          [-1, 256, 19, 19]               0\n",
            "          Conv2d-207         [-1, 1024, 19, 19]         262,144\n",
            "     BatchNorm2d-208         [-1, 1024, 19, 19]           2,048\n",
            "            ReLU-209         [-1, 1024, 19, 19]               0\n",
            "      Bottleneck-210         [-1, 1024, 19, 19]               0\n",
            "          Conv2d-211          [-1, 256, 19, 19]         262,144\n",
            "     BatchNorm2d-212          [-1, 256, 19, 19]             512\n",
            "            ReLU-213          [-1, 256, 19, 19]               0\n",
            "          Conv2d-214          [-1, 256, 19, 19]         589,824\n",
            "     BatchNorm2d-215          [-1, 256, 19, 19]             512\n",
            "            ReLU-216          [-1, 256, 19, 19]               0\n",
            "          Conv2d-217         [-1, 1024, 19, 19]         262,144\n",
            "     BatchNorm2d-218         [-1, 1024, 19, 19]           2,048\n",
            "            ReLU-219         [-1, 1024, 19, 19]               0\n",
            "      Bottleneck-220         [-1, 1024, 19, 19]               0\n",
            "          Conv2d-221          [-1, 256, 19, 19]         262,144\n",
            "     BatchNorm2d-222          [-1, 256, 19, 19]             512\n",
            "            ReLU-223          [-1, 256, 19, 19]               0\n",
            "          Conv2d-224          [-1, 256, 19, 19]         589,824\n",
            "     BatchNorm2d-225          [-1, 256, 19, 19]             512\n",
            "            ReLU-226          [-1, 256, 19, 19]               0\n",
            "          Conv2d-227         [-1, 1024, 19, 19]         262,144\n",
            "     BatchNorm2d-228         [-1, 1024, 19, 19]           2,048\n",
            "            ReLU-229         [-1, 1024, 19, 19]               0\n",
            "      Bottleneck-230         [-1, 1024, 19, 19]               0\n",
            "          Conv2d-231          [-1, 256, 19, 19]         262,144\n",
            "     BatchNorm2d-232          [-1, 256, 19, 19]             512\n",
            "            ReLU-233          [-1, 256, 19, 19]               0\n",
            "          Conv2d-234          [-1, 256, 19, 19]         589,824\n",
            "     BatchNorm2d-235          [-1, 256, 19, 19]             512\n",
            "            ReLU-236          [-1, 256, 19, 19]               0\n",
            "          Conv2d-237         [-1, 1024, 19, 19]         262,144\n",
            "     BatchNorm2d-238         [-1, 1024, 19, 19]           2,048\n",
            "            ReLU-239         [-1, 1024, 19, 19]               0\n",
            "      Bottleneck-240         [-1, 1024, 19, 19]               0\n",
            "          Conv2d-241          [-1, 256, 19, 19]         262,144\n",
            "     BatchNorm2d-242          [-1, 256, 19, 19]             512\n",
            "            ReLU-243          [-1, 256, 19, 19]               0\n",
            "          Conv2d-244          [-1, 256, 19, 19]         589,824\n",
            "     BatchNorm2d-245          [-1, 256, 19, 19]             512\n",
            "            ReLU-246          [-1, 256, 19, 19]               0\n",
            "          Conv2d-247         [-1, 1024, 19, 19]         262,144\n",
            "     BatchNorm2d-248         [-1, 1024, 19, 19]           2,048\n",
            "            ReLU-249         [-1, 1024, 19, 19]               0\n",
            "      Bottleneck-250         [-1, 1024, 19, 19]               0\n",
            "          Conv2d-251          [-1, 256, 19, 19]         262,144\n",
            "     BatchNorm2d-252          [-1, 256, 19, 19]             512\n",
            "            ReLU-253          [-1, 256, 19, 19]               0\n",
            "          Conv2d-254          [-1, 256, 19, 19]         589,824\n",
            "     BatchNorm2d-255          [-1, 256, 19, 19]             512\n",
            "            ReLU-256          [-1, 256, 19, 19]               0\n",
            "          Conv2d-257         [-1, 1024, 19, 19]         262,144\n",
            "     BatchNorm2d-258         [-1, 1024, 19, 19]           2,048\n",
            "            ReLU-259         [-1, 1024, 19, 19]               0\n",
            "      Bottleneck-260         [-1, 1024, 19, 19]               0\n",
            "          Conv2d-261          [-1, 256, 19, 19]         262,144\n",
            "     BatchNorm2d-262          [-1, 256, 19, 19]             512\n",
            "            ReLU-263          [-1, 256, 19, 19]               0\n",
            "          Conv2d-264          [-1, 256, 19, 19]         589,824\n",
            "     BatchNorm2d-265          [-1, 256, 19, 19]             512\n",
            "            ReLU-266          [-1, 256, 19, 19]               0\n",
            "          Conv2d-267         [-1, 1024, 19, 19]         262,144\n",
            "     BatchNorm2d-268         [-1, 1024, 19, 19]           2,048\n",
            "            ReLU-269         [-1, 1024, 19, 19]               0\n",
            "      Bottleneck-270         [-1, 1024, 19, 19]               0\n",
            "          Conv2d-271          [-1, 256, 19, 19]         262,144\n",
            "     BatchNorm2d-272          [-1, 256, 19, 19]             512\n",
            "            ReLU-273          [-1, 256, 19, 19]               0\n",
            "          Conv2d-274          [-1, 256, 19, 19]         589,824\n",
            "     BatchNorm2d-275          [-1, 256, 19, 19]             512\n",
            "            ReLU-276          [-1, 256, 19, 19]               0\n",
            "          Conv2d-277         [-1, 1024, 19, 19]         262,144\n",
            "     BatchNorm2d-278         [-1, 1024, 19, 19]           2,048\n",
            "            ReLU-279         [-1, 1024, 19, 19]               0\n",
            "      Bottleneck-280         [-1, 1024, 19, 19]               0\n",
            "          Conv2d-281          [-1, 256, 19, 19]         262,144\n",
            "     BatchNorm2d-282          [-1, 256, 19, 19]             512\n",
            "            ReLU-283          [-1, 256, 19, 19]               0\n",
            "          Conv2d-284          [-1, 256, 19, 19]         589,824\n",
            "     BatchNorm2d-285          [-1, 256, 19, 19]             512\n",
            "            ReLU-286          [-1, 256, 19, 19]               0\n",
            "          Conv2d-287         [-1, 1024, 19, 19]         262,144\n",
            "     BatchNorm2d-288         [-1, 1024, 19, 19]           2,048\n",
            "            ReLU-289         [-1, 1024, 19, 19]               0\n",
            "      Bottleneck-290         [-1, 1024, 19, 19]               0\n",
            "          Conv2d-291          [-1, 256, 19, 19]         262,144\n",
            "     BatchNorm2d-292          [-1, 256, 19, 19]             512\n",
            "            ReLU-293          [-1, 256, 19, 19]               0\n",
            "          Conv2d-294          [-1, 256, 19, 19]         589,824\n",
            "     BatchNorm2d-295          [-1, 256, 19, 19]             512\n",
            "            ReLU-296          [-1, 256, 19, 19]               0\n",
            "          Conv2d-297         [-1, 1024, 19, 19]         262,144\n",
            "     BatchNorm2d-298         [-1, 1024, 19, 19]           2,048\n",
            "            ReLU-299         [-1, 1024, 19, 19]               0\n",
            "      Bottleneck-300         [-1, 1024, 19, 19]               0\n",
            "          Conv2d-301          [-1, 256, 19, 19]         262,144\n",
            "     BatchNorm2d-302          [-1, 256, 19, 19]             512\n",
            "            ReLU-303          [-1, 256, 19, 19]               0\n",
            "          Conv2d-304          [-1, 256, 19, 19]         589,824\n",
            "     BatchNorm2d-305          [-1, 256, 19, 19]             512\n",
            "            ReLU-306          [-1, 256, 19, 19]               0\n",
            "          Conv2d-307         [-1, 1024, 19, 19]         262,144\n",
            "     BatchNorm2d-308         [-1, 1024, 19, 19]           2,048\n",
            "            ReLU-309         [-1, 1024, 19, 19]               0\n",
            "      Bottleneck-310         [-1, 1024, 19, 19]               0\n",
            "          Conv2d-311          [-1, 512, 19, 19]         524,288\n",
            "     BatchNorm2d-312          [-1, 512, 19, 19]           1,024\n",
            "            ReLU-313          [-1, 512, 19, 19]               0\n",
            "          Conv2d-314          [-1, 512, 10, 10]       2,359,296\n",
            "     BatchNorm2d-315          [-1, 512, 10, 10]           1,024\n",
            "            ReLU-316          [-1, 512, 10, 10]               0\n",
            "          Conv2d-317         [-1, 2048, 10, 10]       1,048,576\n",
            "     BatchNorm2d-318         [-1, 2048, 10, 10]           4,096\n",
            "          Conv2d-319         [-1, 2048, 10, 10]       2,097,152\n",
            "     BatchNorm2d-320         [-1, 2048, 10, 10]           4,096\n",
            "            ReLU-321         [-1, 2048, 10, 10]               0\n",
            "      Bottleneck-322         [-1, 2048, 10, 10]               0\n",
            "          Conv2d-323          [-1, 512, 10, 10]       1,048,576\n",
            "     BatchNorm2d-324          [-1, 512, 10, 10]           1,024\n",
            "            ReLU-325          [-1, 512, 10, 10]               0\n",
            "          Conv2d-326          [-1, 512, 10, 10]       2,359,296\n",
            "     BatchNorm2d-327          [-1, 512, 10, 10]           1,024\n",
            "            ReLU-328          [-1, 512, 10, 10]               0\n",
            "          Conv2d-329         [-1, 2048, 10, 10]       1,048,576\n",
            "     BatchNorm2d-330         [-1, 2048, 10, 10]           4,096\n",
            "            ReLU-331         [-1, 2048, 10, 10]               0\n",
            "      Bottleneck-332         [-1, 2048, 10, 10]               0\n",
            "          Conv2d-333          [-1, 512, 10, 10]       1,048,576\n",
            "     BatchNorm2d-334          [-1, 512, 10, 10]           1,024\n",
            "            ReLU-335          [-1, 512, 10, 10]               0\n",
            "          Conv2d-336          [-1, 512, 10, 10]       2,359,296\n",
            "     BatchNorm2d-337          [-1, 512, 10, 10]           1,024\n",
            "            ReLU-338          [-1, 512, 10, 10]               0\n",
            "          Conv2d-339         [-1, 2048, 10, 10]       1,048,576\n",
            "     BatchNorm2d-340         [-1, 2048, 10, 10]           4,096\n",
            "            ReLU-341         [-1, 2048, 10, 10]               0\n",
            "      Bottleneck-342         [-1, 2048, 10, 10]               0\n",
            "AdaptiveAvgPool2d-343           [-1, 2048, 1, 1]               0\n",
            "================================================================\n",
            "Total params: 42,500,160\n",
            "Trainable params: 42,500,160\n",
            "Non-trainable params: 0\n",
            "----------------------------------------------------------------\n",
            "Input size (MB): 1.02\n",
            "Forward/backward pass size (MB): 787.31\n",
            "Params size (MB): 162.13\n",
            "Estimated Total Size (MB): 950.46\n",
            "----------------------------------------------------------------\n"
          ]
        }
      ],
      "source": [
        "#截取全链接层\n",
        "from torchsummary import summary\n",
        "\n",
        "newmodel = torch.nn.Sequential(*(list(modelnet.children())[:-1]))\n",
        "summary(newmodel, (3, 299, 299))"
      ]
    },
    {
      "cell_type": "code",
      "execution_count": 59,
      "metadata": {
        "id": "NU6UfEnJaGxm"
      },
      "outputs": [],
      "source": [
        "model_state_dict = newmodel.state_dict()\n",
        "\n",
        "# 指定保存路径和文件名\n",
        "save_path = 'model.pth'\n",
        "\n",
        "# 将模型状态字典保存到.pth文件\n",
        "torch.save(model_state_dict, save_path)\n"
      ]
    }
  ],
  "metadata": {
    "accelerator": "GPU",
    "colab": {
      "gpuType": "T4",
      "machine_shape": "hm",
      "provenance": []
    },
    "kernelspec": {
      "display_name": "Python 3",
      "name": "python3"
    },
    "language_info": {
      "name": "python"
    }
  },
  "nbformat": 4,
  "nbformat_minor": 0
}
